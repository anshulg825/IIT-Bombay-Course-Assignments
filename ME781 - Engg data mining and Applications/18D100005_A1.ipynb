{
  "nbformat": 4,
  "nbformat_minor": 0,
  "metadata": {
    "colab": {
      "name": "18D100005_A1.ipynb",
      "provenance": [],
      "collapsed_sections": []
    },
    "kernelspec": {
      "name": "python3",
      "display_name": "Python 3"
    }
  },
  "cells": [
    {
      "cell_type": "markdown",
      "metadata": {
        "id": "wsCkPh9zrrwI",
        "colab_type": "text"
      },
      "source": [
        "# Question 1\n",
        "I have implemented two functions, get_primenumbers(n) is the main function, where I checked whether the output is string or not and then called isprime(x) to check whether x is prime or not. \n",
        "I have done by checking whether divisible by 2/3 and then checked integers in form of 6k+1 and 6k+5. If not divisible by any of the above, then x is prime."
      ]
    },
    {
      "cell_type": "code",
      "metadata": {
        "id": "0mV5gqPZjNT6",
        "colab_type": "code",
        "colab": {}
      },
      "source": [
        "def isprime(x):\n",
        "  if x<=1:\n",
        "    return False\n",
        "  if x<=3:\n",
        "    return True\n",
        "  if (x%2==0) or (x%3==0):\n",
        "    return False\n",
        "  i = 5\n",
        "  while i*i<x:\n",
        "    if x%i==0 or x%(i+2)==0:\n",
        "      return False\n",
        "    i = i+6\n",
        "  return True\n",
        "\n",
        "def get_primenumbers(n):\n",
        "  if isinstance(n, str):\n",
        "    if n.isnumeric():\n",
        "      n = float(n)\n",
        "    else:\n",
        "      print(\"You have entered wrong input\")\n",
        "      return\n",
        "  if n<1:\n",
        "    print(\"You have entered wrong input\")\n",
        "    return\n",
        "  prime_list = []\n",
        "  i = 1\n",
        "  while i<n:\n",
        "    if isprime(i):    \n",
        "      prime_list.append(i)\n",
        "    i = i + 1\n",
        "  print(prime_list)\n",
        "  return"
      ],
      "execution_count": 90,
      "outputs": []
    },
    {
      "cell_type": "markdown",
      "metadata": {
        "id": "2N5xVws4r1I_",
        "colab_type": "text"
      },
      "source": [
        "# Question 2\n",
        "Two functions implemented:\n",
        "hanoi_tower() is using recursion to solve the puzzle and move() is implementing the move on the poles"
      ]
    },
    {
      "cell_type": "code",
      "metadata": {
        "id": "nvAgKGv0bHWu",
        "colab_type": "code",
        "colab": {
          "base_uri": "https://localhost:8080/",
          "height": 306
        },
        "outputId": "f1c1931a-6106-4cba-a7ca-80ad9bd7c5e0"
      },
      "source": [
        "def hanoi_tower(n, A=\"A\", B=\"B\", C=\"C\"):\n",
        "  if n>0:\n",
        "    hanoi_tower(n-1, A, C, B)\n",
        "    move(A,C)\n",
        "    print(poles)\n",
        "    hanoi_tower(n-1, B, A, C)\n",
        "  else:\n",
        "    return\n",
        "\n",
        "def move(source, destination):\n",
        "  if (source==\"A\"): ptr1=0 \n",
        "  elif (source==\"B\"): ptr1 = 1 \n",
        "  else: ptr1 = 2 \n",
        "      \n",
        "  if (destination==\"A\"): ptr2 = 0 \n",
        "  elif (destination==\"B\"): ptr2 = 1 \n",
        "  else: ptr2 = 2 \n",
        "  \n",
        "  top = poles[ptr1].pop()\n",
        "  poles[ptr2].append(top) \n",
        "\n",
        "if __name__ == \"__main__\":\n",
        "  n = int(input())\n",
        "  poles = [[],[],[]]\n",
        "  poles[0] = [i for i in range(n,0,-1)]\n",
        "  print(poles)\n",
        "  hanoi_tower(n)"
      ],
      "execution_count": 64,
      "outputs": [
        {
          "output_type": "stream",
          "text": [
            "4\n",
            "[[4, 3, 2, 1], [], []]\n",
            "[[4, 3, 2], [1], []]\n",
            "[[4, 3], [1], [2]]\n",
            "[[4, 3], [], [2, 1]]\n",
            "[[4], [3], [2, 1]]\n",
            "[[4, 1], [3], [2]]\n",
            "[[4, 1], [3, 2], []]\n",
            "[[4], [3, 2, 1], []]\n",
            "[[], [3, 2, 1], [4]]\n",
            "[[], [3, 2], [4, 1]]\n",
            "[[2], [3], [4, 1]]\n",
            "[[2, 1], [3], [4]]\n",
            "[[2, 1], [], [4, 3]]\n",
            "[[2], [1], [4, 3]]\n",
            "[[], [1], [4, 3, 2]]\n",
            "[[], [], [4, 3, 2, 1]]\n"
          ],
          "name": "stdout"
        }
      ]
    }
  ]
}