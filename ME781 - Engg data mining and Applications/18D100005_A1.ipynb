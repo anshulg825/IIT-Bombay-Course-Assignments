{
  "nbformat": 4,
  "nbformat_minor": 0,
  "metadata": {
    "colab": {
      "name": "18D100005_A1.ipynb",
      "provenance": [],
      "collapsed_sections": []
    },
    "kernelspec": {
      "name": "python3",
      "display_name": "Python 3"
    }
  },
  "cells": [
    {
      "cell_type": "markdown",
      "metadata": {
        "id": "wsCkPh9zrrwI",
        "colab_type": "text"
      },
      "source": [
        "# Question 1\n",
        "I have implemented Sieve of Eratosthenes algorithm for displaying prime numbers less than n.\n",
        "It does so by iteratively marking as composite the multiples of each prime, starting with the first prime number, 2. The multiples of a given prime are generated as a sequence of numbers starting from that prime, with difference between them equal to that prime."
      ]
    },
    {
      "cell_type": "code",
      "metadata": {
        "id": "0mV5gqPZjNT6",
        "colab_type": "code",
        "colab": {
          "base_uri": "https://localhost:8080/",
          "height": 34
        },
        "outputId": "5ce5231c-1a22-40f1-dfbe-b2e01f0b7bd8"
      },
      "source": [
        "def get_primenumbers(n): \n",
        "  if isinstance(n, float):\n",
        "    n +=1\n",
        "  if isinstance(n, str):\n",
        "    if n.isnumeric():\n",
        "      n = float(n)\n",
        "    else:\n",
        "      print(\"You have entered wrong input\")\n",
        "      return\n",
        "  if n<=1:\n",
        "    print(\"You have entered wrong input\")\n",
        "    return\n",
        "  prime_list = []  \n",
        "  prime = [True for i in range(int(n+1))] \n",
        "  p = 2\n",
        "  while (p * p <= n):  \n",
        "    if (prime[p] == True): \n",
        "      for i in range(p * p, int(n+1), p): \n",
        "        prime[i] = False\n",
        "    p += 1\n",
        "  for p in range(2, int(n)): \n",
        "    if prime[p]: \n",
        "      prime_list.append(p)\n",
        "  return prime_list\n",
        "get_primenumbers(9)"
      ],
      "execution_count": 123,
      "outputs": [
        {
          "output_type": "execute_result",
          "data": {
            "text/plain": [
              "[2, 3, 5, 7]"
            ]
          },
          "metadata": {
            "tags": []
          },
          "execution_count": 123
        }
      ]
    },
    {
      "cell_type": "markdown",
      "metadata": {
        "id": "2N5xVws4r1I_",
        "colab_type": "text"
      },
      "source": [
        "# Question 2\n",
        "Two functions implemented:\n",
        "hanoi_tower() is using recursion to solve the puzzle and move() is implementing the move on the poles"
      ]
    },
    {
      "cell_type": "code",
      "metadata": {
        "id": "nvAgKGv0bHWu",
        "colab_type": "code",
        "colab": {
          "base_uri": "https://localhost:8080/",
          "height": 306
        },
        "outputId": "f1c1931a-6106-4cba-a7ca-80ad9bd7c5e0"
      },
      "source": [
        "def hanoi_tower(n, A=\"A\", B=\"B\", C=\"C\"):\n",
        "  if n>0:\n",
        "    hanoi_tower(n-1, A, C, B)\n",
        "    move(A,C)\n",
        "    print(poles)\n",
        "    hanoi_tower(n-1, B, A, C)\n",
        "  else:\n",
        "    return\n",
        "\n",
        "def move(source, destination):\n",
        "  if (source==\"A\"): ptr1=0 \n",
        "  elif (source==\"B\"): ptr1 = 1 \n",
        "  else: ptr1 = 2 \n",
        "      \n",
        "  if (destination==\"A\"): ptr2 = 0 \n",
        "  elif (destination==\"B\"): ptr2 = 1 \n",
        "  else: ptr2 = 2 \n",
        "  \n",
        "  top = poles[ptr1].pop()\n",
        "  poles[ptr2].append(top) \n",
        "\n",
        "if __name__ == \"__main__\":\n",
        "  n = int(input())\n",
        "  poles = [[],[],[]]\n",
        "  poles[0] = [i for i in range(n,0,-1)]\n",
        "  print(poles)\n",
        "  hanoi_tower(n)"
      ],
      "execution_count": null,
      "outputs": [
        {
          "output_type": "stream",
          "text": [
            "4\n",
            "[[4, 3, 2, 1], [], []]\n",
            "[[4, 3, 2], [1], []]\n",
            "[[4, 3], [1], [2]]\n",
            "[[4, 3], [], [2, 1]]\n",
            "[[4], [3], [2, 1]]\n",
            "[[4, 1], [3], [2]]\n",
            "[[4, 1], [3, 2], []]\n",
            "[[4], [3, 2, 1], []]\n",
            "[[], [3, 2, 1], [4]]\n",
            "[[], [3, 2], [4, 1]]\n",
            "[[2], [3], [4, 1]]\n",
            "[[2, 1], [3], [4]]\n",
            "[[2, 1], [], [4, 3]]\n",
            "[[2], [1], [4, 3]]\n",
            "[[], [1], [4, 3, 2]]\n",
            "[[], [], [4, 3, 2, 1]]\n"
          ],
          "name": "stdout"
        }
      ]
    }
  ]
}